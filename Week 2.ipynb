{
 "cells": [
  {
   "cell_type": "markdown",
   "metadata": {},
   "source": [
    "INTRODUCTION"
   ]
  },
  {
   "cell_type": "markdown",
   "metadata": {},
   "source": [
    "Currently there are many accidents occurring due to various factors which cause a loss of property and life itself. This report is produced with an objective to reduce such occurrences by providing the stakeholders with prediction and likelihood of accident given the environmental factors such as weather and lighting. This will help deter accidents which can be avoided if correct information is available at the correct time. This would be helpful to the police department, road authorities and mainly drivers."
   ]
  },
  {
   "cell_type": "markdown",
   "metadata": {},
   "source": [
    "DATA"
   ]
  },
  {
   "cell_type": "markdown",
   "metadata": {},
   "source": [
    "Data is used from Seattle’s City police department from 2004 to 2020 with over 194,000 records. The main fields which will be observed to achieve our objective would be the location of the accident, severity and the lighting conditions. This will help us predict a severity code which could indicate the level of danger of traveling at a given time. The code ranges 0-4 with following explanation :\n",
    "0: Little to no Probability (Clear Conditions)     \n",
    "1: Very Low Probability — Chance or Property Damage\n",
    "2: Low Probability — Chance of Injury\n",
    "3: Mild Probability — Chance of Serious Injury\n",
    "4: High Probability — Chance of Fatality"
   ]
  },
  {
   "cell_type": "markdown",
   "metadata": {},
   "source": []
  }
 ],
 "metadata": {
  "kernelspec": {
   "display_name": "Python 3",
   "language": "python",
   "name": "python3"
  },
  "language_info": {
   "codemirror_mode": {
    "name": "ipython",
    "version": 3
   },
   "file_extension": ".py",
   "mimetype": "text/x-python",
   "name": "python",
   "nbconvert_exporter": "python",
   "pygments_lexer": "ipython3",
   "version": "3.7.6"
  }
 },
 "nbformat": 4,
 "nbformat_minor": 4
}
